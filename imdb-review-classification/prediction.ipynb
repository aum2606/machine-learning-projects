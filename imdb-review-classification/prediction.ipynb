{
 "cells": [
  {
   "cell_type": "code",
   "execution_count": 4,
   "metadata": {},
   "outputs": [],
   "source": [
    "# Step 1: Import Libraries and Load the Model\n",
    "import numpy as np\n",
    "import tensorflow as tf\n",
    "from tensorflow.keras.datasets import imdb\n",
    "from tensorflow.keras.preprocessing import sequence\n",
    "from tensorflow.keras.models import load_model"
   ]
  },
  {
   "cell_type": "code",
   "execution_count": 5,
   "metadata": {},
   "outputs": [],
   "source": [
    "\n",
    "# Load the IMDB dataset word index\n",
    "word_index = imdb.get_word_index()\n",
    "reverse_word_index = {value: key for key, value in word_index.items()}"
   ]
  },
  {
   "cell_type": "code",
   "execution_count": 6,
   "metadata": {},
   "outputs": [
    {
     "name": "stderr",
     "output_type": "stream",
     "text": [
      "WARNING:absl:Compiled the loaded model, but the compiled metrics have yet to be built. `model.compile_metrics` will be empty until you train or evaluate the model.\n"
     ]
    },
    {
     "data": {
      "text/html": [
       "<pre style=\"white-space:pre;overflow-x:auto;line-height:normal;font-family:Menlo,'DejaVu Sans Mono',consolas,'Courier New',monospace\"><span style=\"font-weight: bold\">Model: \"sequential\"</span>\n",
       "</pre>\n"
      ],
      "text/plain": [
       "\u001b[1mModel: \"sequential\"\u001b[0m\n"
      ]
     },
     "metadata": {},
     "output_type": "display_data"
    },
    {
     "data": {
      "text/html": [
       "<pre style=\"white-space:pre;overflow-x:auto;line-height:normal;font-family:Menlo,'DejaVu Sans Mono',consolas,'Courier New',monospace\">┏━━━━━━━━━━━━━━━━━━━━━━━━━━━━━━━━━┳━━━━━━━━━━━━━━━━━━━━━━━━┳━━━━━━━━━━━━━━━┓\n",
       "┃<span style=\"font-weight: bold\"> Layer (type)                    </span>┃<span style=\"font-weight: bold\"> Output Shape           </span>┃<span style=\"font-weight: bold\">       Param # </span>┃\n",
       "┡━━━━━━━━━━━━━━━━━━━━━━━━━━━━━━━━━╇━━━━━━━━━━━━━━━━━━━━━━━━╇━━━━━━━━━━━━━━━┩\n",
       "│ embedding (<span style=\"color: #0087ff; text-decoration-color: #0087ff\">Embedding</span>)           │ (<span style=\"color: #00af00; text-decoration-color: #00af00\">32</span>, <span style=\"color: #00af00; text-decoration-color: #00af00\">500</span>, <span style=\"color: #00af00; text-decoration-color: #00af00\">128</span>)         │     <span style=\"color: #00af00; text-decoration-color: #00af00\">1,280,000</span> │\n",
       "├─────────────────────────────────┼────────────────────────┼───────────────┤\n",
       "│ simple_rnn (<span style=\"color: #0087ff; text-decoration-color: #0087ff\">SimpleRNN</span>)          │ (<span style=\"color: #00af00; text-decoration-color: #00af00\">32</span>, <span style=\"color: #00af00; text-decoration-color: #00af00\">128</span>)              │        <span style=\"color: #00af00; text-decoration-color: #00af00\">32,896</span> │\n",
       "├─────────────────────────────────┼────────────────────────┼───────────────┤\n",
       "│ dense (<span style=\"color: #0087ff; text-decoration-color: #0087ff\">Dense</span>)                   │ (<span style=\"color: #00af00; text-decoration-color: #00af00\">32</span>, <span style=\"color: #00af00; text-decoration-color: #00af00\">1</span>)                │           <span style=\"color: #00af00; text-decoration-color: #00af00\">129</span> │\n",
       "└─────────────────────────────────┴────────────────────────┴───────────────┘\n",
       "</pre>\n"
      ],
      "text/plain": [
       "┏━━━━━━━━━━━━━━━━━━━━━━━━━━━━━━━━━┳━━━━━━━━━━━━━━━━━━━━━━━━┳━━━━━━━━━━━━━━━┓\n",
       "┃\u001b[1m \u001b[0m\u001b[1mLayer (type)                   \u001b[0m\u001b[1m \u001b[0m┃\u001b[1m \u001b[0m\u001b[1mOutput Shape          \u001b[0m\u001b[1m \u001b[0m┃\u001b[1m \u001b[0m\u001b[1m      Param #\u001b[0m\u001b[1m \u001b[0m┃\n",
       "┡━━━━━━━━━━━━━━━━━━━━━━━━━━━━━━━━━╇━━━━━━━━━━━━━━━━━━━━━━━━╇━━━━━━━━━━━━━━━┩\n",
       "│ embedding (\u001b[38;5;33mEmbedding\u001b[0m)           │ (\u001b[38;5;34m32\u001b[0m, \u001b[38;5;34m500\u001b[0m, \u001b[38;5;34m128\u001b[0m)         │     \u001b[38;5;34m1,280,000\u001b[0m │\n",
       "├─────────────────────────────────┼────────────────────────┼───────────────┤\n",
       "│ simple_rnn (\u001b[38;5;33mSimpleRNN\u001b[0m)          │ (\u001b[38;5;34m32\u001b[0m, \u001b[38;5;34m128\u001b[0m)              │        \u001b[38;5;34m32,896\u001b[0m │\n",
       "├─────────────────────────────────┼────────────────────────┼───────────────┤\n",
       "│ dense (\u001b[38;5;33mDense\u001b[0m)                   │ (\u001b[38;5;34m32\u001b[0m, \u001b[38;5;34m1\u001b[0m)                │           \u001b[38;5;34m129\u001b[0m │\n",
       "└─────────────────────────────────┴────────────────────────┴───────────────┘\n"
      ]
     },
     "metadata": {},
     "output_type": "display_data"
    },
    {
     "data": {
      "text/html": [
       "<pre style=\"white-space:pre;overflow-x:auto;line-height:normal;font-family:Menlo,'DejaVu Sans Mono',consolas,'Courier New',monospace\"><span style=\"font-weight: bold\"> Total params: </span><span style=\"color: #00af00; text-decoration-color: #00af00\">1,313,027</span> (5.01 MB)\n",
       "</pre>\n"
      ],
      "text/plain": [
       "\u001b[1m Total params: \u001b[0m\u001b[38;5;34m1,313,027\u001b[0m (5.01 MB)\n"
      ]
     },
     "metadata": {},
     "output_type": "display_data"
    },
    {
     "data": {
      "text/html": [
       "<pre style=\"white-space:pre;overflow-x:auto;line-height:normal;font-family:Menlo,'DejaVu Sans Mono',consolas,'Courier New',monospace\"><span style=\"font-weight: bold\"> Trainable params: </span><span style=\"color: #00af00; text-decoration-color: #00af00\">1,313,025</span> (5.01 MB)\n",
       "</pre>\n"
      ],
      "text/plain": [
       "\u001b[1m Trainable params: \u001b[0m\u001b[38;5;34m1,313,025\u001b[0m (5.01 MB)\n"
      ]
     },
     "metadata": {},
     "output_type": "display_data"
    },
    {
     "data": {
      "text/html": [
       "<pre style=\"white-space:pre;overflow-x:auto;line-height:normal;font-family:Menlo,'DejaVu Sans Mono',consolas,'Courier New',monospace\"><span style=\"font-weight: bold\"> Non-trainable params: </span><span style=\"color: #00af00; text-decoration-color: #00af00\">0</span> (0.00 B)\n",
       "</pre>\n"
      ],
      "text/plain": [
       "\u001b[1m Non-trainable params: \u001b[0m\u001b[38;5;34m0\u001b[0m (0.00 B)\n"
      ]
     },
     "metadata": {},
     "output_type": "display_data"
    },
    {
     "data": {
      "text/html": [
       "<pre style=\"white-space:pre;overflow-x:auto;line-height:normal;font-family:Menlo,'DejaVu Sans Mono',consolas,'Courier New',monospace\"><span style=\"font-weight: bold\"> Optimizer params: </span><span style=\"color: #00af00; text-decoration-color: #00af00\">2</span> (12.00 B)\n",
       "</pre>\n"
      ],
      "text/plain": [
       "\u001b[1m Optimizer params: \u001b[0m\u001b[38;5;34m2\u001b[0m (12.00 B)\n"
      ]
     },
     "metadata": {},
     "output_type": "display_data"
    }
   ],
   "source": [
    "# Load the pre-trained model with ReLU activation\n",
    "model = load_model('simple_rnn_imdb.h5')\n",
    "model.summary()"
   ]
  },
  {
   "cell_type": "code",
   "execution_count": 7,
   "metadata": {},
   "outputs": [
    {
     "data": {
      "text/plain": [
       "[array([[-0.1777479 ,  0.19549687, -0.32050106, ...,  0.16058263,\n",
       "         -0.2837226 ,  0.11761242],\n",
       "        [-0.0160053 , -0.02801893,  0.01792679, ..., -0.02904385,\n",
       "         -0.01457543, -0.0643094 ],\n",
       "        [-0.11089745,  0.04155757, -0.21486902, ..., -0.06281698,\n",
       "         -0.19184233, -0.06117418],\n",
       "        ...,\n",
       "        [-0.04782663, -0.07249831, -0.00867826, ...,  0.00837229,\n",
       "          0.06139306, -0.0125705 ],\n",
       "        [-0.1033697 ,  0.07036363, -0.01983471, ...,  0.05367297,\n",
       "         -0.08154519,  0.00309042],\n",
       "        [-0.04552922, -0.0756266 ,  0.07458869, ..., -0.13851652,\n",
       "          0.12002091, -0.10894404]], dtype=float32),\n",
       " array([[-0.11476275, -0.05644509,  0.1568994 , ..., -0.00744275,\n",
       "          0.07944131,  0.13076587],\n",
       "        [ 0.11472058, -0.15630907, -0.09928769, ...,  0.05394904,\n",
       "          0.04797274, -0.0225938 ],\n",
       "        [ 0.06766979, -0.11614902, -0.11000538, ...,  0.16992943,\n",
       "         -0.10637598, -0.07147331],\n",
       "        ...,\n",
       "        [-0.08345965, -0.02638351, -0.04207081, ...,  0.07028019,\n",
       "          0.10517704, -0.16232246],\n",
       "        [-0.02847758,  0.00270893,  0.15975967, ..., -0.00994   ,\n",
       "          0.14740428,  0.01190878],\n",
       "        [-0.03785792, -0.05690195, -0.0487751 , ..., -0.14458013,\n",
       "          0.1134173 ,  0.04099597]], dtype=float32),\n",
       " array([[-0.02273146,  0.06979489,  0.10836487, ...,  0.09377827,\n",
       "          0.13631517,  0.0192724 ],\n",
       "        [ 0.00063204, -0.08945274,  0.15795378, ...,  0.06029526,\n",
       "          0.08133487,  0.06252219],\n",
       "        [ 0.06102242,  0.06424708, -0.01518774, ..., -0.14964959,\n",
       "         -0.03148584, -0.10799279],\n",
       "        ...,\n",
       "        [ 0.04846764, -0.02794944, -0.01057374, ...,  0.06090339,\n",
       "          0.12123334, -0.07391402],\n",
       "        [ 0.30547047, -0.04139849,  0.05225266, ..., -0.02287768,\n",
       "          0.25432247, -0.10000312],\n",
       "        [-0.25134778,  0.08412238,  0.04927206, ..., -0.04777744,\n",
       "          0.06437964, -0.10035406]], dtype=float32),\n",
       " array([ 0.07335881,  0.01763553,  0.00225208, -0.02617397, -0.00848252,\n",
       "        -0.01698804,  0.00774008, -0.01162344,  0.01840178,  0.00543037,\n",
       "        -0.00781139, -0.05211448, -0.01645289, -0.02350793, -0.00767818,\n",
       "        -0.00387826,  0.00492111, -0.02258957, -0.00426886,  0.00798132,\n",
       "        -0.00484092,  0.03632633, -0.01937625, -0.04017282, -0.00782875,\n",
       "        -0.00088453, -0.03960274, -0.03150775, -0.0161286 , -0.0101363 ,\n",
       "        -0.04341947, -0.01047715,  0.02176663, -0.01198441,  0.02211834,\n",
       "        -0.02498535,  0.02319202, -0.01742959, -0.00278613, -0.016277  ,\n",
       "        -0.01567935, -0.013932  ,  0.00852921, -0.03047464, -0.01192765,\n",
       "        -0.02439067,  0.05950451, -0.01527622,  0.00233534,  0.02089357,\n",
       "        -0.02363528,  0.00577183,  0.08435813, -0.00552738, -0.01286655,\n",
       "        -0.01770516, -0.02794198, -0.01780296, -0.01564803, -0.0102159 ,\n",
       "        -0.04077075, -0.01930525,  0.00109744, -0.02330674, -0.01362303,\n",
       "        -0.02318273, -0.03481611, -0.01406314, -0.01884303, -0.02187554,\n",
       "        -0.02687257, -0.01417236, -0.02246755,  0.00613958, -0.01704431,\n",
       "         0.01743243, -0.04255534, -0.03162508, -0.00579393, -0.04059167,\n",
       "         0.07867783, -0.02769683, -0.02491262, -0.03162606, -0.01510812,\n",
       "        -0.03918091, -0.03341313, -0.03414667,  0.02492878, -0.04965937,\n",
       "        -0.01423701,  0.00205499, -0.02185963, -0.03337229, -0.00597304,\n",
       "         0.03581774, -0.0386759 , -0.03824639,  0.01074348, -0.01274431,\n",
       "         0.00226858, -0.02559252,  0.00232551,  0.01264911, -0.01622155,\n",
       "        -0.01038221, -0.00862223, -0.02234088, -0.01959326, -0.0131786 ,\n",
       "         0.06765096, -0.01190119, -0.01016529,  0.00623859,  0.01927576,\n",
       "        -0.04022316, -0.0104439 , -0.01708734,  0.01040294,  0.03848762,\n",
       "         0.01784191, -0.01500849,  0.03415618, -0.01599368, -0.01575546,\n",
       "        -0.02154844, -0.00755853, -0.01150561], dtype=float32),\n",
       " array([[-0.26118705],\n",
       "        [-0.43010265],\n",
       "        [ 0.24995139],\n",
       "        [-0.16646585],\n",
       "        [ 0.24328074],\n",
       "        [ 0.08668755],\n",
       "        [ 0.09916881],\n",
       "        [-0.07688889],\n",
       "        [-0.16642149],\n",
       "        [ 0.1057286 ],\n",
       "        [-0.13433713],\n",
       "        [-0.07688642],\n",
       "        [ 0.16391969],\n",
       "        [ 0.04822196],\n",
       "        [ 0.14674117],\n",
       "        [-0.21372545],\n",
       "        [ 0.449004  ],\n",
       "        [-0.02227355],\n",
       "        [-0.15906583],\n",
       "        [ 0.130012  ],\n",
       "        [ 0.11050544],\n",
       "        [ 0.0494277 ],\n",
       "        [-0.18742168],\n",
       "        [-0.17613794],\n",
       "        [-0.85689247],\n",
       "        [-0.22537072],\n",
       "        [-0.07065347],\n",
       "        [ 0.15226188],\n",
       "        [ 0.16341563],\n",
       "        [-0.25152183],\n",
       "        [ 0.06183321],\n",
       "        [ 0.13362578],\n",
       "        [-0.28047332],\n",
       "        [-0.12205111],\n",
       "        [ 0.00565292],\n",
       "        [-0.23102319],\n",
       "        [ 0.36903918],\n",
       "        [ 0.13026388],\n",
       "        [ 0.294782  ],\n",
       "        [-0.47990605],\n",
       "        [ 0.19092861],\n",
       "        [ 0.6786999 ],\n",
       "        [ 0.17792046],\n",
       "        [ 0.12980895],\n",
       "        [-0.07978718],\n",
       "        [-0.19808155],\n",
       "        [-0.1879172 ],\n",
       "        [ 0.0113388 ],\n",
       "        [ 0.1704609 ],\n",
       "        [-0.25724733],\n",
       "        [-0.25810695],\n",
       "        [-0.07770775],\n",
       "        [ 0.25121534],\n",
       "        [-0.16757193],\n",
       "        [ 0.13011707],\n",
       "        [ 0.08257803],\n",
       "        [-0.19644766],\n",
       "        [ 0.2034401 ],\n",
       "        [ 0.03963303],\n",
       "        [-0.08917946],\n",
       "        [-0.18897705],\n",
       "        [-0.21791928],\n",
       "        [ 0.6186179 ],\n",
       "        [-0.05209273],\n",
       "        [-0.20588893],\n",
       "        [-0.10798797],\n",
       "        [-0.17608917],\n",
       "        [ 0.20265596],\n",
       "        [ 0.00147841],\n",
       "        [ 0.03956554],\n",
       "        [ 0.21134625],\n",
       "        [-0.05299236],\n",
       "        [ 0.25535795],\n",
       "        [-0.23528846],\n",
       "        [ 0.17180602],\n",
       "        [-0.29410213],\n",
       "        [ 0.09352791],\n",
       "        [-0.07512232],\n",
       "        [ 0.14920796],\n",
       "        [ 0.00132941],\n",
       "        [-0.10151466],\n",
       "        [ 0.03339537],\n",
       "        [-0.13834089],\n",
       "        [-0.2410484 ],\n",
       "        [ 0.06920239],\n",
       "        [ 0.0500096 ],\n",
       "        [-0.21462421],\n",
       "        [-0.2047592 ],\n",
       "        [-0.11938775],\n",
       "        [ 0.01241877],\n",
       "        [-0.02365744],\n",
       "        [ 0.05882953],\n",
       "        [-0.21370628],\n",
       "        [-0.20086683],\n",
       "        [-0.39504525],\n",
       "        [ 0.13155285],\n",
       "        [ 0.02213187],\n",
       "        [-0.0690945 ],\n",
       "        [-0.09030883],\n",
       "        [-0.00585907],\n",
       "        [-0.2567867 ],\n",
       "        [-0.13303927],\n",
       "        [ 0.16000615],\n",
       "        [ 0.12868801],\n",
       "        [ 0.17401336],\n",
       "        [ 0.25887787],\n",
       "        [ 0.19388221],\n",
       "        [ 0.07445662],\n",
       "        [ 0.22725719],\n",
       "        [-0.10827158],\n",
       "        [-0.22757222],\n",
       "        [ 0.09006552],\n",
       "        [-0.03057271],\n",
       "        [-0.1310779 ],\n",
       "        [-0.11384393],\n",
       "        [-0.06204257],\n",
       "        [-0.213199  ],\n",
       "        [ 0.04722477],\n",
       "        [ 0.03475165],\n",
       "        [-0.23699212],\n",
       "        [-0.1882447 ],\n",
       "        [ 0.14599434],\n",
       "        [ 0.25629497],\n",
       "        [-0.14333718],\n",
       "        [ 0.00823485],\n",
       "        [-0.17417729],\n",
       "        [-0.3316859 ],\n",
       "        [ 0.21206209]], dtype=float32),\n",
       " array([0.00218126], dtype=float32)]"
      ]
     },
     "execution_count": 7,
     "metadata": {},
     "output_type": "execute_result"
    }
   ],
   "source": [
    "model.get_weights()"
   ]
  },
  {
   "cell_type": "code",
   "execution_count": 8,
   "metadata": {},
   "outputs": [],
   "source": [
    "# Step 2: Helper Functions\n",
    "# Function to decode reviews\n",
    "def decode_review(encoded_review):\n",
    "    return ' '.join([reverse_word_index.get(i - 3, '?') for i in encoded_review])\n",
    "\n",
    "# Function to preprocess user input\n",
    "def preprocess_text(text):\n",
    "    words = text.lower().split()\n",
    "    encoded_review = [word_index.get(word, 2) + 3 for word in words]\n",
    "    padded_review = sequence.pad_sequences([encoded_review], maxlen=500)\n",
    "    return padded_review"
   ]
  },
  {
   "cell_type": "code",
   "execution_count": 9,
   "metadata": {},
   "outputs": [],
   "source": [
    "### Prediction  function\n",
    "\n",
    "def predict_sentiment(review):\n",
    "    preprocessed_input=preprocess_text(review)\n",
    "\n",
    "    prediction=model.predict(preprocessed_input)\n",
    "\n",
    "    sentiment = 'Positive' if prediction[0][0] > 0.5 else 'Negative'\n",
    "    \n",
    "    return sentiment, prediction[0][0]\n",
    "\n"
   ]
  },
  {
   "cell_type": "code",
   "execution_count": 10,
   "metadata": {},
   "outputs": [
    {
     "name": "stdout",
     "output_type": "stream",
     "text": [
      "\u001b[1m1/1\u001b[0m \u001b[32m━━━━━━━━━━━━━━━━━━━━\u001b[0m\u001b[37m\u001b[0m \u001b[1m0s\u001b[0m 154ms/step\n",
      "Review: This movie was fantastic! The acting was great and the plot was thrilling.\n",
      "Sentiment: Positive\n",
      "Prediction Score: 0.6438086032867432\n"
     ]
    }
   ],
   "source": [
    "# Step 4: User Input and Prediction\n",
    "# Example review for prediction\n",
    "example_review = \"This movie was fantastic! The acting was great and the plot was thrilling.\"\n",
    "\n",
    "sentiment,score=predict_sentiment(example_review)\n",
    "\n",
    "print(f'Review: {example_review}')\n",
    "print(f'Sentiment: {sentiment}')\n",
    "print(f'Prediction Score: {score}')"
   ]
  },
  {
   "cell_type": "code",
   "execution_count": null,
   "metadata": {},
   "outputs": [],
   "source": []
  },
  {
   "cell_type": "code",
   "execution_count": null,
   "metadata": {},
   "outputs": [],
   "source": []
  },
  {
   "cell_type": "code",
   "execution_count": null,
   "metadata": {},
   "outputs": [],
   "source": []
  },
  {
   "cell_type": "code",
   "execution_count": null,
   "metadata": {},
   "outputs": [],
   "source": []
  }
 ],
 "metadata": {
  "kernelspec": {
   "display_name": "Python 3",
   "language": "python",
   "name": "python3"
  },
  "language_info": {
   "codemirror_mode": {
    "name": "ipython",
    "version": 3
   },
   "file_extension": ".py",
   "mimetype": "text/x-python",
   "name": "python",
   "nbconvert_exporter": "python",
   "pygments_lexer": "ipython3",
   "version": "3.11.5"
  }
 },
 "nbformat": 4,
 "nbformat_minor": 2
}
